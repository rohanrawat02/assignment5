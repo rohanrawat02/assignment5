{
 "cells": [
  {
   "cell_type": "code",
   "execution_count": 28,
   "id": "c373ad14-3e4b-431b-9c17-95e2101f1039",
   "metadata": {},
   "outputs": [
    {
     "name": "stdout",
     "output_type": "stream",
     "text": [
      "car has the maxspeed of 200 with an average of 15\n",
      "bike has the max speed of 120 with an average of 45\n"
     ]
    }
   ],
   "source": [
    "#ques1\n",
    "class vehicle:\n",
    "    def __init__(self,name_of_vehicle,max_speed,average_of_vehicle):\n",
    "        self.name_of_vehicle= name_of_vehicle\n",
    "        self.max_speed= max_speed\n",
    "        self.average_of_vehicle=average_of_vehicle\n",
    "        \n",
    "    car=vehicle(\"car\",200,15)\n",
    "    bike=vehicle(\"bike\",120,45)\n",
    "    \n",
    "    print(f\"{car.name_of_vehicle} has the maxspeed of {car.max_speed} with an average of {car.average_of_vehicle}\"  )\n",
    "    print(f\"{bike.name_of_vehicle} has the max speed of {bike.max_speed} with an average of {bike.average_of_vehicle}\")\n",
    "    \n"
   ]
  },
  {
   "cell_type": "code",
   "execution_count": 27,
   "id": "9f12cd30-b5a3-40ac-b2c1-7bf453d29cac",
   "metadata": {},
   "outputs": [
    {
     "name": "stdout",
     "output_type": "stream",
     "text": [
      "sedan has the seating capacity of 5 people\n"
     ]
    }
   ],
   "source": [
    "#ques2\n",
    "class car(vehicle):\n",
    "    def __init__(self, name_of_vehicle,max_speed,average_of_vehicle):\n",
    "        super().__init__(name_of_vehicle,max_speed,average_of_vehicle)\n",
    "\n",
    "        \n",
    "    def seating_capacity(self,capacity):\n",
    "        return f\"{self.name_of_vehicle} has the seating capacity of {capacity} people\"\n",
    "    car=car(\"sedan\",250,18)\n",
    "    \n",
    "    capacity=5\n",
    "    print(car.seating_capacity(capacity))"
   ]
  },
  {
   "cell_type": "code",
   "execution_count": 29,
   "id": "5c2f5407-e87d-427c-97a0-ab12154fefbf",
   "metadata": {},
   "outputs": [
    {
     "name": "stdout",
     "output_type": "stream",
     "text": [
      "Sedan has a max speed of 180 km/h and an average of 25 km/l.\n",
      "Sedan has a seating capacity of 5 people.\n"
     ]
    }
   ],
   "source": [
    "#ques3\n",
    "class Vehicle:\n",
    "    def __init__(self, name_of_vehicle, max_speed, average_of_vehicle):\n",
    "        self.name_of_vehicle = name_of_vehicle\n",
    "        self.max_speed = max_speed\n",
    "        self.average_of_vehicle = average_of_vehicle\n",
    "\n",
    "class Car(Vehicle):\n",
    "    def __init__(self, name_of_vehicle, max_speed, average_of_vehicle):\n",
    "        super().__init__(name_of_vehicle, max_speed, average_of_vehicle)\n",
    "\n",
    "    def seating_capacity(self, capacity):\n",
    "        return f\"{self.name_of_vehicle} has a seating capacity of {capacity} people.\"\n",
    "\n",
    "# Creating an instance of the Car class\n",
    "car = Car(\"Sedan\", 180, 25)\n",
    "\n",
    "# Accessing instance variables from the parent class\n",
    "print(f\"{car.name_of_vehicle} has a max speed of {car.max_speed} km/h and an average of {car.average_of_vehicle} km/l.\")\n",
    "\n",
    "# Using the method from the child class\n",
    "capacity = 5\n",
    "print(car.seating_capacity(capacity))\n"
   ]
  },
  {
   "cell_type": "code",
   "execution_count": 31,
   "id": "2ba58b62-418e-4c3e-acb8-fd30aac97c68",
   "metadata": {},
   "outputs": [
    {
     "name": "stdout",
     "output_type": "stream",
     "text": [
      "Name: rohan, Age: 30\n",
      "Updated Name: suraj, Updated Age: 25\n"
     ]
    }
   ],
   "source": [
    "#ques4\n",
    "class Person:\n",
    "    def __init__(self, name, age):\n",
    "        self._name = name  # Note the use of a single underscore to indicate a \"protected\" attribute\n",
    "        self._age = age\n",
    "\n",
    "    # Getter method for the 'name' attribute\n",
    "    def get_name(self):\n",
    "        return self._name\n",
    "\n",
    "    # Setter method for the 'name' attribute\n",
    "    def set_name(self, name):\n",
    "        if isinstance(name, str) and len(name) > 0:\n",
    "            self._name = name\n",
    "        else:\n",
    "            print(\"Invalid name.\")\n",
    "\n",
    "    # Getter method for the 'age' attribute\n",
    "    def get_age(self):\n",
    "        return self._age\n",
    "\n",
    "    # Setter method for the 'age' attribute\n",
    "    def set_age(self, age):\n",
    "        if isinstance(age, int) and age >= 0:\n",
    "            self._age = age\n",
    "        else:\n",
    "            print(\"Invalid age.\")\n",
    "\n",
    "# Creating an instance of the Person class\n",
    "person = Person(\"rohan\", 30)\n",
    "\n",
    "# Using getter and setter methods\n",
    "print(f\"Name: {person.get_name()}, Age: {person.get_age()}\")\n",
    "\n",
    "person.set_name(\"suraj\")\n",
    "person.set_age(25)\n",
    "\n",
    "print(f\"Updated Name: {person.get_name()}, Updated Age: {person.get_age()}\")\n"
   ]
  },
  {
   "cell_type": "code",
   "execution_count": null,
   "id": "3d412271-cb10-4f6a-9bc2-14ae476abd07",
   "metadata": {},
   "outputs": [],
   "source": [
    "#ques5\n"
   ]
  }
 ],
 "metadata": {
  "kernelspec": {
   "display_name": "Python 3 (ipykernel)",
   "language": "python",
   "name": "python3"
  },
  "language_info": {
   "codemirror_mode": {
    "name": "ipython",
    "version": 3
   },
   "file_extension": ".py",
   "mimetype": "text/x-python",
   "name": "python",
   "nbconvert_exporter": "python",
   "pygments_lexer": "ipython3",
   "version": "3.10.8"
  }
 },
 "nbformat": 4,
 "nbformat_minor": 5
}
